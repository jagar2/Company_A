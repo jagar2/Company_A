{
 "cells": [
  {
   "cell_type": "markdown",
   "metadata": {},
   "source": [
    "# Company A - RNN"
   ]
  },
  {
   "cell_type": "markdown",
   "metadata": {},
   "source": [
    "**Goal:** Create a model that capture relationships between input and output of production  \n",
    "**Scope:** focusing on all 13 inputs, but only 3 outputs (as given by the company) \n",
    "\n",
    "* Seq2Seq: LSTM encoder-decoder with attention <span style=\"color:red\"><< TODO </span>\n"
   ]
  },
  {
   "cell_type": "markdown",
   "metadata": {},
   "source": [
    "## Import packages"
   ]
  },
  {
   "cell_type": "code",
   "execution_count": 3,
   "metadata": {},
   "outputs": [],
   "source": [
    "%matplotlib inline\n",
    "import pandas as pd\n",
    "import numpy as np\n",
    "import matplotlib.pyplot as plt\n",
    "import seaborn as sn\n",
    "import scipy\n",
    "import sklearn"
   ]
  },
  {
   "cell_type": "code",
   "execution_count": 32,
   "metadata": {},
   "outputs": [],
   "source": [
    "from tensorflow.keras.models import (Model, Sequential)\n",
    "from tensorflow.keras.layers import (Input, LSTM, Dense, Flatten, RepeatVector, Reshape, MaxPooling1D, UpSampling1D, BatchNormalization)\n",
    "from tensorflow.keras.optimizers import (Adam, SGD)\n",
    "from tensorflow.keras.regularizers import l1"
   ]
  },
  {
   "cell_type": "code",
   "execution_count": 5,
   "metadata": {},
   "outputs": [],
   "source": [
    "from sklearn.model_selection import train_test_split\n",
    "from sklearn.metrics import confusion_matrix\n",
    "from sklearn.linear_model import LinearRegression\n",
    "from sklearn.feature_selection import RFE\n",
    "from sklearn.linear_model import RidgeCV, LassoCV, Ridge, Lasso"
   ]
  },
  {
   "cell_type": "markdown",
   "metadata": {},
   "source": [
    "## Load data & key parameters"
   ]
  },
  {
   "cell_type": "code",
   "execution_count": 6,
   "metadata": {
    "scrolled": false
   },
   "outputs": [
    {
     "name": "stdout",
     "output_type": "stream",
     "text": [
      "Column headings:\n",
      "Index(['Product Made', 'Air consumption', 'Gas consumption', 'Exhaust gas',\n",
      "       'Speed', 'Pressure', 'Kiln Feed', 'Dust Addition',\n",
      "       'Moisture Beltweigher', 'Moisture CLC', 'Additive B', 'Additive C',\n",
      "       'CLC CaO', 'CLC Na2O', 'Surface Area', 'Compacite', 'd50', 'd90',\n",
      "       'B₂O₃', 'Na₂O'],\n",
      "      dtype='object')\n"
     ]
    }
   ],
   "source": [
    "data = pd.read_pickle('mod_data.pkl')\n",
    "print(\"Column headings:\")\n",
    "print(data.columns)"
   ]
  },
  {
   "cell_type": "code",
   "execution_count": 7,
   "metadata": {},
   "outputs": [],
   "source": [
    "# key metrics\n",
    "col_input = [\"Air consumption\",\"Gas consumption\",\"Exhaust gas\",\"Speed\",\"Pressure\",\"Kiln Feed\",\"Dust Addition\",\"Moisture Beltweigher\",\"Moisture CLC\",\"Additive B\",\"Additive C\",\"CLC CaO\",\"CLC Na2O\"]\n",
    "col_output_H = [\"Surface Area\",\"Compacite\",\"d50\"]\n",
    "col_output_L = [\"d90\",\"B₂O₃\",\"Na₂O\"]\n",
    "prod_type = ['A','B','C','D','F','G','H','I']"
   ]
  },
  {
   "cell_type": "code",
   "execution_count": null,
   "metadata": {},
   "outputs": [],
   "source": []
  }
 ],
 "metadata": {
  "kernelspec": {
   "display_name": "Python 3",
   "language": "python",
   "name": "python3"
  },
  "language_info": {
   "codemirror_mode": {
    "name": "ipython",
    "version": 3
   },
   "file_extension": ".py",
   "mimetype": "text/x-python",
   "name": "python",
   "nbconvert_exporter": "python",
   "pygments_lexer": "ipython3",
   "version": "3.7.3"
  }
 },
 "nbformat": 4,
 "nbformat_minor": 2
}
