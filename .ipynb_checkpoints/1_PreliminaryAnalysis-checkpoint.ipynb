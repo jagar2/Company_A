{
 "cells": [
  {
   "cell_type": "markdown",
   "metadata": {},
   "source": [
    "# Company A - Data Preliminary Analysis"
   ]
  },
  {
   "cell_type": "markdown",
   "metadata": {},
   "source": [
    "* PCA / ICA explained variance & visualization with t-SNE\n",
    "* SVM Lasso with Regularization (Recursive Feature Elimination) for Magnitude of initial feature Feature elimination  \n",
    "* Simple dense NN (no temporal)\n"
   ]
  },
  {
   "cell_type": "markdown",
   "metadata": {},
   "source": [
    "## Import packages"
   ]
  },
  {
   "cell_type": "code",
   "execution_count": 6,
   "metadata": {},
   "outputs": [],
   "source": [
    "%matplotlib inline\n",
    "import pandas as pd\n",
    "import numpy as np\n",
    "import matplotlib.pyplot as plt\n",
    "from sklearn.metrics import confusion_matrix\n",
    "import seaborn as sn\n",
    "import scipy\n",
    "import sklearn"
   ]
  },
  {
   "cell_type": "code",
   "execution_count": 7,
   "metadata": {},
   "outputs": [],
   "source": [
    "from tensorflow.keras.models import (Model, Sequential)\n",
    "from tensorflow.keras.layers import (Input, Dense, Flatten, RepeatVector, Reshape, MaxPooling1D, UpSampling1D, BatchNormalization)\n",
    "#from tensorflow.keras.layers.core import Lambda\n",
    "from tensorflow.keras.optimizers import (Adam, SGD)\n",
    "from tensorflow.keras.regularizers import l1"
   ]
  },
  {
   "cell_type": "markdown",
   "metadata": {},
   "source": [
    "## Load data"
   ]
  },
  {
   "cell_type": "code",
   "execution_count": 44,
   "metadata": {
    "scrolled": false
   },
   "outputs": [
    {
     "name": "stdout",
     "output_type": "stream",
     "text": [
      "Column headings:\n",
      "Index(['Product Made', 'Air consumption', 'Gas consumption', 'Exhaust gas',\n",
      "       'Speed', 'Pressure', 'Kiln Feed', 'Dust Addition',\n",
      "       'Moisture Beltweigher', 'Moisture CLC', 'Additive B', 'Additive C',\n",
      "       'CLC CaO', 'CLC Na2O', 'Surface Area', 'Compacite', 'd50', 'd90',\n",
      "       'B₂O₃', 'Na₂O'],\n",
      "      dtype='object')\n"
     ]
    }
   ],
   "source": [
    "data = pd.read_pickle('mod_data.pkl')\n",
    "\n",
    "print(\"Column headings:\")\n",
    "print(data.columns)"
   ]
  },
  {
   "cell_type": "markdown",
   "metadata": {},
   "source": [
    "## Normalize data"
   ]
  },
  {
   "cell_type": "code",
   "execution_count": 54,
   "metadata": {},
   "outputs": [],
   "source": [
    "from sklearn import preprocessing\n",
    "# Create a minimum and maximum processor object\n",
    "min_max_scaler = preprocessing.MinMaxScaler()\n",
    "# Create an object to transform the data to fit minmax processor\n",
    "x_scaled = min_max_scaler.fit_transform(data.drop([\"Product Made\"], axis=1))\n",
    "# Run the normalizer on the dataframe\n",
    "df_normalized = pd.DataFrame(x_scaled)"
   ]
  },
  {
   "cell_type": "markdown",
   "metadata": {},
   "source": [
    "## PCA / ICA "
   ]
  },
  {
   "cell_type": "code",
   "execution_count": 67,
   "metadata": {},
   "outputs": [],
   "source": [
    "from sklearn.decomposition import PCA\n",
    "pca = PCA(8)\n",
    "result = pca.fit_transform(df_normalized)"
   ]
  },
  {
   "cell_type": "code",
   "execution_count": 68,
   "metadata": {
    "scrolled": true
   },
   "outputs": [
    {
     "data": {
      "text/plain": [
       "Text(0, 0.5, 'cumulative explained variance')"
      ]
     },
     "execution_count": 68,
     "metadata": {},
     "output_type": "execute_result"
    },
    {
     "data": {
      "image/png": "[encoded data removed]",
      "text/plain": [
       "<Figure size 432x288 with 1 Axes>"
      ]
     },
     "metadata": {
      "needs_background": "light"
     },
     "output_type": "display_data"
    }
   ],
   "source": [
    "plt.plot(np.cumsum(pca.explained_variance_ratio_))\n",
    "plt.xlabel('number of components')\n",
    "plt.ylabel('cumulative explained variance')"
   ]
  },
  {
   "cell_type": "code",
   "execution_count": 69,
   "metadata": {},
   "outputs": [],
   "source": [
    "from sklearn.decomposition import FastICA\n",
    "numICAcomp = 8\n",
    "ica = FastICA(n_components=numICAcomp, max_iter=2000, tol=0.01)\n",
    "ICA = ica.fit_transform(df_normalized)"
   ]
  },
  {
   "cell_type": "code",
   "execution_count": null,
   "metadata": {},
   "outputs": [
    {
     "name": "stdout",
     "output_type": "stream",
     "text": [
      "[t-SNE] Computing 61 nearest neighbors...\n",
      "[t-SNE] Indexed 1116 samples in 0.004s...\n",
      "[t-SNE] Computed neighbors for 1116 samples in 0.069s...\n",
      "[t-SNE] Computed conditional probabilities for sample 1000 / 1116\n",
      "[t-SNE] Computed conditional probabilities for sample 1116 / 1116\n",
      "[t-SNE] Mean sigma: 0.018709\n",
      "[t-SNE] KL divergence after 250 iterations with early exaggeration: 62.530304\n"
     ]
    }
   ],
   "source": [
    "from sklearn.manifold import TSNE\n",
    "tsne = TSNE(n_components=3, verbose=True, perplexity=20, n_iter=10000)\n",
    "tsne_results = tsne.fit_transform(ICA)"
   ]
  },
  {
   "cell_type": "code",
   "execution_count": null,
   "metadata": {},
   "outputs": [],
   "source": [
    "tsne_results.shape"
   ]
  },
  {
   "cell_type": "code",
   "execution_count": null,
   "metadata": {},
   "outputs": [],
   "source": [
    "import matplotlib.cm as cm\n",
    "\n",
    "plt.figure(figsize=(8,8))\n",
    "plt.scatter(tsne_results[:, 0], tsne_results[:, 1],\n",
    "            c=data[\"Product Made\"], edgecolor='none', alpha=0.5,\n",
    "            cmap=cm.get_cmap('jet', 10))\n",
    "plt.title(\"Scatter plot of the two t-SNE components\")\n",
    "plt.xlabel('t-SNE component 1')\n",
    "plt.ylabel('t-SNE component 2')\n",
    "plt.colorbar();"
   ]
  },
  {
   "cell_type": "markdown",
   "metadata": {},
   "source": [
    "## Dense NN"
   ]
  },
  {
   "cell_type": "code",
   "execution_count": 12,
   "metadata": {},
   "outputs": [],
   "source": [
    "input_shape = (300, 30, 3170) # shape of input (px_row, px_column, energy_channels)\n",
    "num_classes = 2 # number of possible states, so anneal and not anneal"
   ]
  },
  {
   "cell_type": "code",
   "execution_count": 21,
   "metadata": {},
   "outputs": [],
   "source": [
    "model = Sequential([\n",
    "                        Dense(100, activation='relu'),\n",
    "                        Dense(100, activation='relu'),\n",
    "                        Dense(100, activation='relu'),\n",
    "                        Dense(100, activation='relu'),\n",
    "                        Dense(100, activation='relu'),\n",
    "                        Dense(2, activation='softmax') \n",
    "                    ])"
   ]
  },
  {
   "cell_type": "code",
   "execution_count": 22,
   "metadata": {},
   "outputs": [],
   "source": [
    "# set learning rate\n",
    "lr = 2e-5\n",
    "\n",
    "# compile model\n",
    "#model.compile(optimizer=Adam(lr), loss='mse')\n",
    "model.compile(loss='categorical_crossentropy', optimizer=SGD(lr), metrics=['accuracy']) # categorical loss, SGD"
   ]
  },
  {
   "cell_type": "code",
   "execution_count": 464,
   "metadata": {
    "scrolled": true
   },
   "outputs": [
    {
     "name": "stdout",
     "output_type": "stream",
     "text": [
      "Train on 80000 samples, validate on 20000 samples\n",
      "Epoch 1/15\n",
      "80000/80000 [==============================] - 90s 1ms/step - loss: 0.5791 - accuracy: 0.7037 - val_loss: 0.5566 - val_accuracy: 0.7183\n",
      "Epoch 2/15\n",
      "80000/80000 [==============================] - 90s 1ms/step - loss: 0.5523 - accuracy: 0.7167 - val_loss: 0.5608 - val_accuracy: 0.7161\n",
      "Epoch 3/15\n",
      "80000/80000 [==============================] - 91s 1ms/step - loss: 0.5505 - accuracy: 0.7175 - val_loss: 0.5563 - val_accuracy: 0.7167\n",
      "Epoch 4/15\n",
      "80000/80000 [==============================] - 146s 2ms/step - loss: 0.5515 - accuracy: 0.7174 - val_loss: 0.5529 - val_accuracy: 0.7166\n",
      "Epoch 5/15\n",
      "80000/80000 [==============================] - 120s 1ms/step - loss: 0.5510 - accuracy: 0.7188 - val_loss: 0.5551 - val_accuracy: 0.7160\n",
      "Epoch 6/15\n",
      "80000/80000 [==============================] - 101s 1ms/step - loss: 0.5498 - accuracy: 0.7182 - val_loss: 0.5561 - val_accuracy: 0.7174\n",
      "Epoch 7/15\n",
      "80000/80000 [==============================] - 95s 1ms/step - loss: 0.5494 - accuracy: 0.7197 - val_loss: 0.5561 - val_accuracy: 0.7153\n",
      "Epoch 8/15\n",
      "80000/80000 [==============================] - 126s 2ms/step - loss: 0.5489 - accuracy: 0.7188 - val_loss: 0.5567 - val_accuracy: 0.7161\n",
      "Epoch 9/15\n",
      "80000/80000 [==============================] - 112s 1ms/step - loss: 0.5491 - accuracy: 0.7207 - val_loss: 0.5531 - val_accuracy: 0.7185\n",
      "Epoch 10/15\n",
      "80000/80000 [==============================] - 126s 2ms/step - loss: 0.5490 - accuracy: 0.7189 - val_loss: 0.5547 - val_accuracy: 0.7170\n",
      "Epoch 11/15\n",
      "80000/80000 [==============================] - 108s 1ms/step - loss: 0.5486 - accuracy: 0.7186 - val_loss: 0.5517 - val_accuracy: 0.7182\n",
      "Epoch 12/15\n",
      "80000/80000 [==============================] - 91s 1ms/step - loss: 0.5485 - accuracy: 0.7200 - val_loss: 0.5514 - val_accuracy: 0.7192\n",
      "Epoch 13/15\n",
      "80000/80000 [==============================] - 123s 2ms/step - loss: 0.5477 - accuracy: 0.7209 - val_loss: 0.5545 - val_accuracy: 0.7187\n",
      "Epoch 14/15\n",
      "80000/80000 [==============================] - 135s 2ms/step - loss: 0.5477 - accuracy: 0.7200 - val_loss: 0.5580 - val_accuracy: 0.7176\n",
      "Epoch 15/15\n",
      "80000/80000 [==============================] - 145s 2ms/step - loss: 0.5489 - accuracy: 0.7202 - val_loss: 0.5513 - val_accuracy: 0.7193\n"
     ]
    },
    {
     "data": {
      "text/plain": [
       "<keras.callbacks.callbacks.History at 0x7f2013fd7fd0>"
      ]
     },
     "execution_count": 464,
     "metadata": {},
     "output_type": "execute_result"
    }
   ],
   "source": [
    "# fits the model\n",
    "model.fit(x_train, y_train, epochs=15, batch_size=100, validation_data=(x_test, y_test))"
   ]
  }
 ],
 "metadata": {
  "kernelspec": {
   "display_name": "Python 3",
   "language": "python",
   "name": "python3"
  },
  "language_info": {
   "codemirror_mode": {
    "name": "ipython",
    "version": 3
   },
   "file_extension": ".py",
   "mimetype": "text/x-python",
   "name": "python",
   "nbconvert_exporter": "python",
   "pygments_lexer": "ipython3",
   "version": "3.7.3"
  }
 },
 "nbformat": 4,
 "nbformat_minor": 2
}
