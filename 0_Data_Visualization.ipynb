{
 "cells": [
  {
   "cell_type": "markdown",
   "metadata": {},
   "source": [
    "# Company A - Data Visualization"
   ]
  },
  {
   "cell_type": "markdown",
   "metadata": {},
   "source": [
    "## import modules"
   ]
  },
  {
   "cell_type": "code",
   "execution_count": 3,
   "metadata": {},
   "outputs": [],
   "source": [
    "import pandas as pd\n",
    "import numpy as np\n",
    "import matplotlib.pyplot as plt"
   ]
  },
  {
   "cell_type": "markdown",
   "metadata": {},
   "source": [
    "## load data"
   ]
  },
  {
   "cell_type": "code",
   "execution_count": 6,
   "metadata": {},
   "outputs": [
    {
     "name": "stdout",
     "output_type": "stream",
     "text": [
      "Column headings:\n",
      "Index(['Date', 'Product Goal', 'Product Made', 'Air consumption',\n",
      "       'Gas consumption', 'Exhaust gas', 'Speed', 'Pressure', 'Kiln Feed',\n",
      "       'Dust Addition', 'Moisture Beltweigher', 'Moisture CLC', 'Additive B',\n",
      "       'Additive C', 'CLC CaO', 'CLC Na2O', 'Efficiency', 'Power consumption',\n",
      "       'Gaszähler Ofen 6', 'Pyrometer', 'Temperature Kiln head',\n",
      "       'Inner Temperature of the Kiln', 'End Temperature of Kiln',\n",
      "       'Input Temperature Baghouse filter', 'Exhaust Gas Temperature',\n",
      "       'Dust Collection', 'CLC B2O3', 'CLC Fe2O3', 'CLC MgO', 'CLC SiO2',\n",
      "       'CLC TiO2', 'pH', 'pH value CLC', 'CO2', 'CO', 'B2O3 Dust', 'Na2O Dust',\n",
      "       'Surface Area', 'Compacite', 'd50', 'd50-2', 'd90', '+ 0.063 mm',\n",
      "       'Loose Bulk Density', 'B₂O₃', 'CaO', 'Fe₂O₃', 'MgO', 'SiO₂', 'Na₂O',\n",
      "       'TiO₂'],\n",
      "      dtype='object')\n"
     ]
    }
   ],
   "source": [
    "df = pd.read_excel('2018-Ofen 6-Lehigh data.xlsx')\n",
    "\n",
    "print(\"Column headings:\")\n",
    "print(df.columns)"
   ]
  },
  {
   "cell_type": "code",
   "execution_count": null,
   "metadata": {},
   "outputs": [],
   "source": []
  }
 ],
 "metadata": {
  "kernelspec": {
   "display_name": "Python 3",
   "language": "python",
   "name": "python3"
  },
  "language_info": {
   "codemirror_mode": {
    "name": "ipython",
    "version": 3
   },
   "file_extension": ".py",
   "mimetype": "text/x-python",
   "name": "python",
   "nbconvert_exporter": "python",
   "pygments_lexer": "ipython3",
   "version": "3.7.3"
  }
 },
 "nbformat": 4,
 "nbformat_minor": 2
}
